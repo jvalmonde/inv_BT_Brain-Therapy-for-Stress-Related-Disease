{
 "cells": [
  {
   "cell_type": "code",
   "execution_count": 48,
   "metadata": {},
   "outputs": [],
   "source": [
    "import os\n",
    "import sys\n",
    "import re\n",
    "import numpy as np\n",
    "import pandas as pd\n",
    "import matplotlib.pyplot as plt\n",
    "import joblib\n",
    "import json\n",
    "import pathlib\n",
    "\n",
    "from mpldatacursor import datacursor as cursor\n",
    "from datetime import timedelta\n",
    "from datetime import datetime"
   ]
  },
  {
   "cell_type": "code",
   "execution_count": 49,
   "metadata": {},
   "outputs": [
    {
     "data": {
      "text/plain": [
       "['BT-MVP-0001',\n",
       " 'BT-MVP-0002',\n",
       " 'BT-MVP-0003',\n",
       " 'BT-MVP-0004',\n",
       " 'BT-MVP-0005',\n",
       " 'BT-MVP-0006',\n",
       " 'BT-MVP-0007',\n",
       " 'BT-MVP-0008',\n",
       " 'BT-MVP-0009',\n",
       " 'BT-MVP-0010',\n",
       " 'BT-MVP-0011',\n",
       " 'BT-MVP-0012',\n",
       " 'BT-MVP-0013',\n",
       " 'BT-MVP-0014',\n",
       " 'BT-MVP-0015',\n",
       " 'BT-MVP-0016',\n",
       " 'BT-MVP-0017',\n",
       " 'BT-MVP-0018',\n",
       " 'BT-MVP-0019',\n",
       " 'BT-MVP-0020',\n",
       " 'BT-MVP-0021']"
      ]
     },
     "execution_count": 49,
     "metadata": {},
     "output_type": "execute_result"
    }
   ],
   "source": [
    "path  = \"/mnt/bkt_prd_dsv_brain_therapy_raw/Brain Therapy MVP Content Pilot/\"\n",
    "directories = os.listdir(path)\n",
    "directories = [d for d in directories if d.startswith('BT')]\n",
    "directories"
   ]
  },
  {
   "cell_type": "code",
   "execution_count": 3,
   "metadata": {},
   "outputs": [],
   "source": [
    "files = list([])\n",
    "for directory in directories:\n",
    "    f = os.listdir(path+\"/\"+directory)\n",
    "    files.append([path+\"/\"+directory+\"/\"+x for x in f if x.endswith(\"total.txt\")])\n",
    "    "
   ]
  },
  {
   "cell_type": "code",
   "execution_count": 4,
   "metadata": {},
   "outputs": [],
   "source": [
    "text_files = [x for x in files if len(x)==1]\n"
   ]
  },
  {
   "cell_type": "code",
   "execution_count": 5,
   "metadata": {},
   "outputs": [
    {
     "data": {
      "text/html": [
       "<div>\n",
       "<style scoped>\n",
       "    .dataframe tbody tr th:only-of-type {\n",
       "        vertical-align: middle;\n",
       "    }\n",
       "\n",
       "    .dataframe tbody tr th {\n",
       "        vertical-align: top;\n",
       "    }\n",
       "\n",
       "    .dataframe thead th {\n",
       "        text-align: right;\n",
       "    }\n",
       "</style>\n",
       "<table border=\"1\" class=\"dataframe\">\n",
       "  <thead>\n",
       "    <tr style=\"text-align: right;\">\n",
       "      <th></th>\n",
       "      <th>RSP</th>\n",
       "      <th>PPG</th>\n",
       "      <th>T</th>\n",
       "      <th>ECG</th>\n",
       "      <th>EDA</th>\n",
       "    </tr>\n",
       "    <tr>\n",
       "      <th>participant_name</th>\n",
       "      <th></th>\n",
       "      <th></th>\n",
       "      <th></th>\n",
       "      <th></th>\n",
       "      <th></th>\n",
       "    </tr>\n",
       "  </thead>\n",
       "  <tbody>\n",
       "    <tr>\n",
       "      <th>participant_1</th>\n",
       "      <td>37272.000</td>\n",
       "      <td>-2.169495</td>\n",
       "      <td>-0.167542</td>\n",
       "      <td>31.185791</td>\n",
       "      <td>-0.325928</td>\n",
       "    </tr>\n",
       "    <tr>\n",
       "      <th>participant_1</th>\n",
       "      <td>37272.004</td>\n",
       "      <td>-2.178650</td>\n",
       "      <td>-0.166931</td>\n",
       "      <td>31.187622</td>\n",
       "      <td>-0.279541</td>\n",
       "    </tr>\n",
       "    <tr>\n",
       "      <th>participant_1</th>\n",
       "      <td>37272.008</td>\n",
       "      <td>-2.191772</td>\n",
       "      <td>-0.172729</td>\n",
       "      <td>31.186401</td>\n",
       "      <td>-0.226593</td>\n",
       "    </tr>\n",
       "    <tr>\n",
       "      <th>participant_1</th>\n",
       "      <td>37272.012</td>\n",
       "      <td>-2.201538</td>\n",
       "      <td>-0.177307</td>\n",
       "      <td>31.187622</td>\n",
       "      <td>-0.181427</td>\n",
       "    </tr>\n",
       "    <tr>\n",
       "      <th>participant_1</th>\n",
       "      <td>37272.016</td>\n",
       "      <td>-2.206421</td>\n",
       "      <td>-0.177612</td>\n",
       "      <td>31.186401</td>\n",
       "      <td>-0.151672</td>\n",
       "    </tr>\n",
       "  </tbody>\n",
       "</table>\n",
       "</div>"
      ],
      "text/plain": [
       "                        RSP       PPG         T        ECG       EDA\n",
       "participant_name                                                    \n",
       "participant_1     37272.000 -2.169495 -0.167542  31.185791 -0.325928\n",
       "participant_1     37272.004 -2.178650 -0.166931  31.187622 -0.279541\n",
       "participant_1     37272.008 -2.191772 -0.172729  31.186401 -0.226593\n",
       "participant_1     37272.012 -2.201538 -0.177307  31.187622 -0.181427\n",
       "participant_1     37272.016 -2.206421 -0.177612  31.186401 -0.151672"
      ]
     },
     "execution_count": 5,
     "metadata": {},
     "output_type": "execute_result"
    }
   ],
   "source": [
    "data = pd.DataFrame([])\n",
    "for i, participant_data in enumerate(text_files):\n",
    "    for txt in participant_data:\n",
    "        d = pd.read_csv(txt,skiprows = 15, usecols = [0,1,2,3,4], names = ['RSP','PPG','T','ECG','EDA'])\n",
    "        d['participant_name'] = \"participant_\" + str(i+1)\n",
    "        data = pd.concat([data, d])\n",
    "data.set_index(['participant_name'], inplace = True)\n",
    "data.head()"
   ]
  },
  {
   "cell_type": "code",
   "execution_count": 6,
   "metadata": {},
   "outputs": [],
   "source": [
    "participants = data.index.get_level_values('participant_name').unique()"
   ]
  },
  {
   "cell_type": "markdown",
   "metadata": {},
   "source": [
    "### JSON FILES OF EACH PARTICIPANT"
   ]
  },
  {
   "cell_type": "code",
   "execution_count": 28,
   "metadata": {},
   "outputs": [],
   "source": [
    "def get_json(input_filename, output_filename):\n",
    "    sk = re.compile(r'(?P<spaces>\\s*)(?P<field>[a-zA-Z\\-]+)(?P<colon> :)')\n",
    "    out_filename = '/mnt/shared_drive/data/brain_therapy/json_output/'+output_filename\n",
    "    with open(out_filename,'w') as out_file:\n",
    "        with open(input_filename, 'r') as in_file:\n",
    "            length = len(open(input_filename).readlines())\n",
    "            for e,i in enumerate(in_file.readlines()):\n",
    "                out_str = i.rstrip()\n",
    "                if ('log' not in out_str) and (e!=length-2):\n",
    "                    out_str = out_str.replace(']','}').replace('[','{')\n",
    "                m = sk.search(out_str)\n",
    "                if m:\n",
    "                    out_file.write(sk.sub('\\g<spaces>\"\\g<field>\"\\g<colon>',out_str)+'\\n')\n",
    "                else:\n",
    "                    out_file.write(out_str+'\\n')"
   ]
  },
  {
   "cell_type": "code",
   "execution_count": 37,
   "metadata": {},
   "outputs": [],
   "source": [
    "path2  = \"/mnt/bkt_prd_dsv_brain_therapy_raw/Brain Therapy MVP Content Pilot/\"\n",
    "\n",
    "json_files = list([])\n",
    "for directory in directories:\n",
    "    f = os.listdir(path2+directory)\n",
    "    dimensions = ['2D','3D']\n",
    "    for dimension in dimensions:\n",
    "        d = [d_folder for d_folder in f if dimension in d_folder][0]\n",
    "        d_files = os.listdir(path2+directory+\"/\"+d)\n",
    "#         display(d_files)\n",
    "        json_files.append([path2+directory+\"/\"+d+\"/\"+x for x in d_files if x.endswith(\".json\")])   "
   ]
  },
  {
   "cell_type": "code",
   "execution_count": 38,
   "metadata": {},
   "outputs": [],
   "source": [
    "json_files = [j for j in json_files if len(j)>0]"
   ]
  },
  {
   "cell_type": "code",
   "execution_count": 39,
   "metadata": {},
   "outputs": [
    {
     "data": {
      "text/plain": [
       "[['/mnt/bkt_prd_dsv_brain_therapy_raw/Brain Therapy MVP Content Pilot/BT-MVP-0001/BT-MVP-0001-2D/BT-MVP-0001-1562790332-events.json'],\n",
       " ['/mnt/bkt_prd_dsv_brain_therapy_raw/Brain Therapy MVP Content Pilot/BT-MVP-0001/BT-MVP-0001-3D/BT-MVP-0001-3D-1562791350-events.json'],\n",
       " ['/mnt/bkt_prd_dsv_brain_therapy_raw/Brain Therapy MVP Content Pilot/BT-MVP-0002/BT-MVP-0002-2D/BT-MVP-0002-1562879278-events.json'],\n",
       " ['/mnt/bkt_prd_dsv_brain_therapy_raw/Brain Therapy MVP Content Pilot/BT-MVP-0002/BT-MVP-0002-3D/BT-MVP-0002-3D-1562878296-events.json'],\n",
       " ['/mnt/bkt_prd_dsv_brain_therapy_raw/Brain Therapy MVP Content Pilot/BT-MVP-0003/BT-MVP-0003-2D/BT-MVP-0003-2D-1563214950-events.json'],\n",
       " ['/mnt/bkt_prd_dsv_brain_therapy_raw/Brain Therapy MVP Content Pilot/BT-MVP-0003/BT-MVP-0003-3D/BT-MVP-0003-3D-1563215917-events.json'],\n",
       " ['/mnt/bkt_prd_dsv_brain_therapy_raw/Brain Therapy MVP Content Pilot/BT-MVP-0004/BT-MVP-0004-2D/BT-MVP-0004-2D-1563302076-events.json',\n",
       "  '/mnt/bkt_prd_dsv_brain_therapy_raw/Brain Therapy MVP Content Pilot/BT-MVP-0004/BT-MVP-0004-2D/BT-MVP-0004-2D-1563302111-events.json'],\n",
       " ['/mnt/bkt_prd_dsv_brain_therapy_raw/Brain Therapy MVP Content Pilot/BT-MVP-0004/BT-MVP-0004-3D/BT-MVP-0004-3D-1563301214-events.json'],\n",
       " ['/mnt/bkt_prd_dsv_brain_therapy_raw/Brain Therapy MVP Content Pilot/BT-MVP-0005/BT-MVP-0005-2D/BT-MVP-0005-2D-1563387377-events.json'],\n",
       " ['/mnt/bkt_prd_dsv_brain_therapy_raw/Brain Therapy MVP Content Pilot/BT-MVP-0005/BT-MVP-0005-3D/BT-MVP-0005-3D-1563388327-events.json'],\n",
       " ['/mnt/bkt_prd_dsv_brain_therapy_raw/Brain Therapy MVP Content Pilot/BT-MVP-0006/BT-MVP-0006-2D/BT-MVP-0006-2D-1563464096-events.json'],\n",
       " ['/mnt/bkt_prd_dsv_brain_therapy_raw/Brain Therapy MVP Content Pilot/BT-MVP-0007/BT-MVP-0007-2D/BT-MVP-0007-2D-1563475514-events.json'],\n",
       " ['/mnt/bkt_prd_dsv_brain_therapy_raw/Brain Therapy MVP Content Pilot/BT-MVP-0007/BT-MVP-0007-3D/BT-MVP-0007-3D-1563476431-events.json'],\n",
       " ['/mnt/bkt_prd_dsv_brain_therapy_raw/Brain Therapy MVP Content Pilot/BT-MVP-0008/BT-MVP-0008-2D/BT-MVP-0008-2D-1563550599-events.json'],\n",
       " ['/mnt/bkt_prd_dsv_brain_therapy_raw/Brain Therapy MVP Content Pilot/BT-MVP-0008/BT-MVP-0008-3D/BT-MVP-0008-3D-1563549725-events.json'],\n",
       " ['/mnt/bkt_prd_dsv_brain_therapy_raw/Brain Therapy MVP Content Pilot/BT-MVP-0009/BT-MVP-0009-2D/BT-MVP-0009-2D-1563559957-events.json'],\n",
       " ['/mnt/bkt_prd_dsv_brain_therapy_raw/Brain Therapy MVP Content Pilot/BT-MVP-0009/BT-MVP-0009-3D/BT-MVP-0009-3D-1563560916-events.json'],\n",
       " ['/mnt/bkt_prd_dsv_brain_therapy_raw/Brain Therapy MVP Content Pilot/BT-MVP-0010/BT-MVP-0010-2D/BT-MVP-0010-2D-1563809412-events.json'],\n",
       " ['/mnt/bkt_prd_dsv_brain_therapy_raw/Brain Therapy MVP Content Pilot/BT-MVP-0010/BT-MVP-0010-3D/BT-MVP-0010-3D-1563808559-events.json'],\n",
       " ['/mnt/bkt_prd_dsv_brain_therapy_raw/Brain Therapy MVP Content Pilot/BT-MVP-0011/BT-MVP-0011-2D/BT-MVP-0011-2D-1563895117-events.json'],\n",
       " ['/mnt/bkt_prd_dsv_brain_therapy_raw/Brain Therapy MVP Content Pilot/BT-MVP-0011/BT-MVP-0011-3D/BT-MVP-0011-3D-1563896035-events.json'],\n",
       " ['/mnt/bkt_prd_dsv_brain_therapy_raw/Brain Therapy MVP Content Pilot/BT-MVP-0012/BT-MVP-0012-2D/BT-MVP-0012-2D-1563912525-events.json'],\n",
       " ['/mnt/bkt_prd_dsv_brain_therapy_raw/Brain Therapy MVP Content Pilot/BT-MVP-0012/BT-MVP-0012-3D/BT-MVP-0012-3D-1563911657-events.json'],\n",
       " ['/mnt/bkt_prd_dsv_brain_therapy_raw/Brain Therapy MVP Content Pilot/BT-MVP-0013/BT-MVP-0013-2D/BT-MVP-0013-2D-1563981198-events.json'],\n",
       " ['/mnt/bkt_prd_dsv_brain_therapy_raw/Brain Therapy MVP Content Pilot/BT-MVP-0013/BT-MVP-0013-3D/BT-MVP-0013-3D-1563982035-events.json',\n",
       "  '/mnt/bkt_prd_dsv_brain_therapy_raw/Brain Therapy MVP Content Pilot/BT-MVP-0013/BT-MVP-0013-3D/BT-MVP-0013-3D-1563982173-events.json'],\n",
       " ['/mnt/bkt_prd_dsv_brain_therapy_raw/Brain Therapy MVP Content Pilot/BT-MVP-0014/BT-MVP-0014-2D/BT-MVP-0014-2D-1563993055-events.json'],\n",
       " ['/mnt/bkt_prd_dsv_brain_therapy_raw/Brain Therapy MVP Content Pilot/BT-MVP-0014/BT-MVP-0014-3D/BT-MVP-0014-3D-1563992187-events.json'],\n",
       " ['/mnt/bkt_prd_dsv_brain_therapy_raw/Brain Therapy MVP Content Pilot/BT-MVP-0015/BT-MVP-0015-2D/BT-MVP-0015-2D-1564067517-events.json'],\n",
       " ['/mnt/bkt_prd_dsv_brain_therapy_raw/Brain Therapy MVP Content Pilot/BT-MVP-0015/BT-MVP-0015-3D/BT-MVP-0015-3D-1564068537-events.json'],\n",
       " ['/mnt/bkt_prd_dsv_brain_therapy_raw/Brain Therapy MVP Content Pilot/BT-MVP-0016/BT-MVP-0016-2D/BT-MVP-0016-2D-1564425088-events.json'],\n",
       " ['/mnt/bkt_prd_dsv_brain_therapy_raw/Brain Therapy MVP Content Pilot/BT-MVP-0016/BT-MVP-0016-3D/BT-MVP-0016-3D-1564424162-events.json'],\n",
       " ['/mnt/bkt_prd_dsv_brain_therapy_raw/Brain Therapy MVP Content Pilot/BT-MVP-0017/BT-MVP-0017-2D/BT-MVP-0017-2D-1564500173-events.json'],\n",
       " ['/mnt/bkt_prd_dsv_brain_therapy_raw/Brain Therapy MVP Content Pilot/BT-MVP-0017/BT-MVP-0017-3D/BT-MVP-0017-3D-1564501157-events.json'],\n",
       " ['/mnt/bkt_prd_dsv_brain_therapy_raw/Brain Therapy MVP Content Pilot/BT-MVP-0018/BT-MVP-0018-2D/BT-MVP-0018-2D-1564587682-events.json'],\n",
       " ['/mnt/bkt_prd_dsv_brain_therapy_raw/Brain Therapy MVP Content Pilot/BT-MVP-0018/BT-MVP-0018-3D/BT-MVP-0018-3D-1564586799-events.json'],\n",
       " ['/mnt/bkt_prd_dsv_brain_therapy_raw/Brain Therapy MVP Content Pilot/BT-MVP-0019/BT-MVP-0019-2D/BT-MVP-0019-2D-1564597116-events.json'],\n",
       " ['/mnt/bkt_prd_dsv_brain_therapy_raw/Brain Therapy MVP Content Pilot/BT-MVP-0019/BT-MVP-0019-3D/BT-MVP-0019-3D-1564598063-events.json'],\n",
       " ['/mnt/bkt_prd_dsv_brain_therapy_raw/Brain Therapy MVP Content Pilot/BT-MVP-0020/BT-MVP-0020-2D/BT-MVP-0020-2D-1564603513-events.json'],\n",
       " ['/mnt/bkt_prd_dsv_brain_therapy_raw/Brain Therapy MVP Content Pilot/BT-MVP-0020/BT-MVP-0020-3D/BT-MVP-0020-3D-1564602620-events.json'],\n",
       " ['/mnt/bkt_prd_dsv_brain_therapy_raw/Brain Therapy MVP Content Pilot/BT-MVP-0021/BT-MVP-0021-2D/BT-MVP-0021-2D-1565115325-events.json'],\n",
       " ['/mnt/bkt_prd_dsv_brain_therapy_raw/Brain Therapy MVP Content Pilot/BT-MVP-0021/BT-MVP-0021-3D/BT-MVP-0021-3D-1565116481-events.json']]"
      ]
     },
     "execution_count": 39,
     "metadata": {},
     "output_type": "execute_result"
    }
   ],
   "source": [
    "json_files"
   ]
  },
  {
   "cell_type": "code",
   "execution_count": 40,
   "metadata": {},
   "outputs": [],
   "source": [
    "for json_ in json_files:\n",
    "    output_filename = json_[0].split('/')[len(json_[0].split('/'))-1]\n",
    "    get_json(json_[0], output_filename)"
   ]
  },
  {
   "cell_type": "markdown",
   "metadata": {},
   "source": [
    "Stop here"
   ]
  },
  {
   "cell_type": "code",
   "execution_count": 42,
   "metadata": {},
   "outputs": [
    {
     "data": {
      "text/plain": [
       "<_io.TextIOWrapper name='/mnt/shared_drive/data/brain_therapy/json_output/.BT-MVP-0012-2D-1563912525-events.json.swo' mode='r' encoding='UTF-8'>"
      ]
     },
     "metadata": {},
     "output_type": "display_data"
    },
    {
     "data": {
      "text/plain": [
       "<_io.TextIOWrapper name='/mnt/shared_drive/data/brain_therapy/json_output/.BT-MVP-0012-2D-1563912525-events.json.swp' mode='r' encoding='UTF-8'>"
      ]
     },
     "metadata": {},
     "output_type": "display_data"
    },
    {
     "data": {
      "text/plain": [
       "<_io.TextIOWrapper name='/mnt/shared_drive/data/brain_therapy/json_output/.BT-MVP-0021-2D-1565115325-events.json.swp' mode='r' encoding='UTF-8'>"
      ]
     },
     "metadata": {},
     "output_type": "display_data"
    },
    {
     "data": {
      "text/plain": [
       "<_io.TextIOWrapper name='/mnt/shared_drive/data/brain_therapy/json_output/.nfs0000000002c002b200000001' mode='r' encoding='UTF-8'>"
      ]
     },
     "metadata": {},
     "output_type": "display_data"
    },
    {
     "name": "stderr",
     "output_type": "stream",
     "text": [
      "/home/camar/.conda/envs/btsrd/lib/python3.7/site-packages/ipykernel/__main__.py:16: FutureWarning: Sorting because non-concatenation axis is not aligned. A future version\n",
      "of pandas will change to not sort by default.\n",
      "\n",
      "To accept the future behavior, pass 'sort=False'.\n",
      "\n",
      "To retain the current behavior and silence the warning, pass 'sort=True'.\n",
      "\n"
     ]
    }
   ],
   "source": [
    "events_df = pd.DataFrame([])\n",
    "p = \"/mnt/shared_drive/data/brain_therapy/json_output\"\n",
    "json_outputs = os.listdir(p)\n",
    "for i, j in enumerate(sorted(json_outputs)):\n",
    "    with open(\"{}/{}\".format(p,j), 'r') as j_file:\n",
    "        try:\n",
    "            D = json.load(j_file)\n",
    "            name = j_file.name.split(\"/\")[6]\n",
    "            num = name.split('-')[2]\n",
    "        except:\n",
    "            display(j_file)\n",
    "            continue\n",
    "        df = pd.DataFrame(D['log'])\n",
    "        df['participant'] = \"{}\".format(num)\n",
    "        df['type'] =\"3D\" if \"3D\" in name else \"2D\"\n",
    "        events_df = pd.concat([events_df, df])\n",
    "events_df.set_index(['participant','type'], inplace = True)"
   ]
  },
  {
   "cell_type": "code",
   "execution_count": 43,
   "metadata": {},
   "outputs": [
    {
     "data": {
      "text/html": [
       "<div>\n",
       "<style scoped>\n",
       "    .dataframe tbody tr th:only-of-type {\n",
       "        vertical-align: middle;\n",
       "    }\n",
       "\n",
       "    .dataframe tbody tr th {\n",
       "        vertical-align: top;\n",
       "    }\n",
       "\n",
       "    .dataframe thead th {\n",
       "        text-align: right;\n",
       "    }\n",
       "</style>\n",
       "<table border=\"1\" class=\"dataframe\">\n",
       "  <thead>\n",
       "    <tr style=\"text-align: right;\">\n",
       "      <th></th>\n",
       "      <th></th>\n",
       "      <th></th>\n",
       "      <th>details</th>\n",
       "      <th>timestamp</th>\n",
       "    </tr>\n",
       "    <tr>\n",
       "      <th>participant</th>\n",
       "      <th>type</th>\n",
       "      <th>event</th>\n",
       "      <th></th>\n",
       "      <th></th>\n",
       "    </tr>\n",
       "  </thead>\n",
       "  <tbody>\n",
       "    <tr>\n",
       "      <th rowspan=\"5\" valign=\"top\">0001</th>\n",
       "      <th rowspan=\"5\" valign=\"top\">2D</th>\n",
       "      <th>ScriptStart</th>\n",
       "      <td>{'script-file': 'Test Scripts/mvp_balance_full...</td>\n",
       "      <td>1562790332</td>\n",
       "    </tr>\n",
       "    <tr>\n",
       "      <th>Script Log Event</th>\n",
       "      <td>{'context': 'StartFrontBuffer', 'time': '15627...</td>\n",
       "      <td>1562790332</td>\n",
       "    </tr>\n",
       "    <tr>\n",
       "      <th>RingHit</th>\n",
       "      <td>{}</td>\n",
       "      <td>1562790335</td>\n",
       "    </tr>\n",
       "    <tr>\n",
       "      <th>RingHit</th>\n",
       "      <td>{}</td>\n",
       "      <td>1562790335</td>\n",
       "    </tr>\n",
       "    <tr>\n",
       "      <th>RingHit</th>\n",
       "      <td>{}</td>\n",
       "      <td>1562790335</td>\n",
       "    </tr>\n",
       "  </tbody>\n",
       "</table>\n",
       "</div>"
      ],
      "text/plain": [
       "                                                                             details  \\\n",
       "participant type event                                                                 \n",
       "0001        2D   ScriptStart       {'script-file': 'Test Scripts/mvp_balance_full...   \n",
       "                 Script Log Event  {'context': 'StartFrontBuffer', 'time': '15627...   \n",
       "                 RingHit                                                          {}   \n",
       "                 RingHit                                                          {}   \n",
       "                 RingHit                                                          {}   \n",
       "\n",
       "                                    timestamp  \n",
       "participant type event                         \n",
       "0001        2D   ScriptStart       1562790332  \n",
       "                 Script Log Event  1562790332  \n",
       "                 RingHit           1562790335  \n",
       "                 RingHit           1562790335  \n",
       "                 RingHit           1562790335  "
      ]
     },
     "execution_count": 43,
     "metadata": {},
     "output_type": "execute_result"
    }
   ],
   "source": [
    "events_df['event'] = events_df['event'].fillna(events_df['eventName'])\n",
    "events_df.drop(['eventName'], axis = 1, inplace = True)\n",
    "events_df.set_index('event', append = True, inplace = True)\n",
    "events_df.head()"
   ]
  },
  {
   "cell_type": "code",
   "execution_count": 44,
   "metadata": {},
   "outputs": [],
   "source": [
    "log_events = pd.DataFrame([])\n",
    "participants = events_df.index.get_level_values('participant').unique()\n",
    "for participant in participants:\n",
    "    data = events_df.loc(axis = 0 )[participant,:,'Script Log Event']\n",
    "    details = data['details'].values\n",
    "    context = [[x['context'], x['time']] for x in details]\n",
    "    df = pd.DataFrame(context, columns = ['context','time'], index = data.index)\n",
    "    log_events = pd.concat([log_events, df])\n",
    "log_events.reset_index([\"event\"], drop = True, inplace = True)"
   ]
  },
  {
   "cell_type": "code",
   "execution_count": 45,
   "metadata": {},
   "outputs": [],
   "source": [
    "log_events['time'] = pd.to_datetime(log_events['time'], unit = 's')\n",
    "log_events['time'] = log_events['time']-timedelta(hours = 5)\n"
   ]
  },
  {
   "cell_type": "code",
   "execution_count": 47,
   "metadata": {},
   "outputs": [
    {
     "data": {
      "text/plain": [
       "['/mnt/shared_drive/data/brain_therapy/log_events.pkl']"
      ]
     },
     "execution_count": 47,
     "metadata": {},
     "output_type": "execute_result"
    }
   ],
   "source": [
    "joblib.dump(log_events, \"/mnt/shared_drive/data/brain_therapy/log_events.pkl\")"
   ]
  },
  {
   "cell_type": "markdown",
   "metadata": {},
   "source": [
    "### 2D and 3D Skin Temperature and PPG Signals"
   ]
  },
  {
   "cell_type": "code",
   "execution_count": 16,
   "metadata": {},
   "outputs": [],
   "source": [
    "signals = joblib.load(\"/mnt/shared_drive/data/brain_therapy/signals_dict.pkl\")"
   ]
  },
  {
   "cell_type": "code",
   "execution_count": 17,
   "metadata": {},
   "outputs": [],
   "source": [
    "def plot_signals(data):\n",
    "    col = data.columns.values[0]\n",
    "    dimensions = data.index.get_level_values('type').unique().values\n",
    "    fig, axes = plt.subplots(2, 2, figsize = (15, 7))\n",
    "    ax = axes.flatten()\n",
    "    i = 0\n",
    "    for dimension in dimensions:\n",
    "        ax[i].plot(data.loc(axis = 0)[:,dimension][col].values)\n",
    "        ax[i].set_title(\"{} {} data of {}\".format(dimension,col, data.index.get_level_values('participant_name').unique().values[0]))\n",
    "        \n",
    "        ax[i+2].plot(data.loc(axis = 0)[:,dimension][col].values)\n",
    "        ax[i+2].set_xlim(1000,5000)\n",
    "        ax[i+2].set_title(\"{} {} ZOOMED data of {}\".format(dimension,col, data.index.get_level_values('participant_name').unique().values[0]))\n",
    "        i+=1"
   ]
  },
  {
   "cell_type": "code",
   "execution_count": 18,
   "metadata": {},
   "outputs": [],
   "source": [
    "signal_df = pd.DataFrame([])\n",
    "for participant in signals.keys():\n",
    "    data = signals[participant]\n",
    "    data['participant'] = participant\n",
    "    signal_df = pd.concat([signal_df, data])\n",
    "signal_df.set_index(['participant','Datetime'], inplace = True)"
   ]
  },
  {
   "cell_type": "code",
   "execution_count": 19,
   "metadata": {},
   "outputs": [
    {
     "data": {
      "text/html": [
       "<div>\n",
       "<style scoped>\n",
       "    .dataframe tbody tr th:only-of-type {\n",
       "        vertical-align: middle;\n",
       "    }\n",
       "\n",
       "    .dataframe tbody tr th {\n",
       "        vertical-align: top;\n",
       "    }\n",
       "\n",
       "    .dataframe thead th {\n",
       "        text-align: right;\n",
       "    }\n",
       "</style>\n",
       "<table border=\"1\" class=\"dataframe\">\n",
       "  <thead>\n",
       "    <tr style=\"text-align: right;\">\n",
       "      <th></th>\n",
       "      <th></th>\n",
       "      <th>RSP</th>\n",
       "      <th>PPG</th>\n",
       "      <th>1-SKTA</th>\n",
       "      <th>ECG</th>\n",
       "      <th>EDA</th>\n",
       "    </tr>\n",
       "    <tr>\n",
       "      <th>participant</th>\n",
       "      <th>Datetime</th>\n",
       "      <th></th>\n",
       "      <th></th>\n",
       "      <th></th>\n",
       "      <th></th>\n",
       "      <th></th>\n",
       "    </tr>\n",
       "  </thead>\n",
       "  <tbody>\n",
       "    <tr>\n",
       "      <th rowspan=\"5\" valign=\"top\">0001</th>\n",
       "      <th>2019-07-10 15:22:31.000</th>\n",
       "      <td>-1.263123</td>\n",
       "      <td>0.003052</td>\n",
       "      <td>12.941162</td>\n",
       "      <td>-0.234833</td>\n",
       "      <td>0.041124</td>\n",
       "    </tr>\n",
       "    <tr>\n",
       "      <th>2019-07-10 15:22:31.004</th>\n",
       "      <td>-1.261902</td>\n",
       "      <td>0.003662</td>\n",
       "      <td>12.945435</td>\n",
       "      <td>-0.226593</td>\n",
       "      <td>0.042649</td>\n",
       "    </tr>\n",
       "    <tr>\n",
       "      <th>2019-07-10 15:22:31.008</th>\n",
       "      <td>-1.264648</td>\n",
       "      <td>0.002136</td>\n",
       "      <td>12.946045</td>\n",
       "      <td>-0.215607</td>\n",
       "      <td>0.044175</td>\n",
       "    </tr>\n",
       "    <tr>\n",
       "      <th>2019-07-10 15:22:31.012</th>\n",
       "      <td>-1.261902</td>\n",
       "      <td>0.003662</td>\n",
       "      <td>12.945435</td>\n",
       "      <td>-0.206604</td>\n",
       "      <td>0.039598</td>\n",
       "    </tr>\n",
       "    <tr>\n",
       "      <th>2019-07-10 15:22:31.016</th>\n",
       "      <td>-1.262207</td>\n",
       "      <td>0.003357</td>\n",
       "      <td>12.946045</td>\n",
       "      <td>-0.198364</td>\n",
       "      <td>0.042649</td>\n",
       "    </tr>\n",
       "  </tbody>\n",
       "</table>\n",
       "</div>"
      ],
      "text/plain": [
       "                                          RSP       PPG     1-SKTA       ECG  \\\n",
       "participant Datetime                                                           \n",
       "0001        2019-07-10 15:22:31.000 -1.263123  0.003052  12.941162 -0.234833   \n",
       "            2019-07-10 15:22:31.004 -1.261902  0.003662  12.945435 -0.226593   \n",
       "            2019-07-10 15:22:31.008 -1.264648  0.002136  12.946045 -0.215607   \n",
       "            2019-07-10 15:22:31.012 -1.261902  0.003662  12.945435 -0.206604   \n",
       "            2019-07-10 15:22:31.016 -1.262207  0.003357  12.946045 -0.198364   \n",
       "\n",
       "                                          EDA  \n",
       "participant Datetime                           \n",
       "0001        2019-07-10 15:22:31.000  0.041124  \n",
       "            2019-07-10 15:22:31.004  0.042649  \n",
       "            2019-07-10 15:22:31.008  0.044175  \n",
       "            2019-07-10 15:22:31.012  0.039598  \n",
       "            2019-07-10 15:22:31.016  0.042649  "
      ]
     },
     "execution_count": 19,
     "metadata": {},
     "output_type": "execute_result"
    }
   ],
   "source": [
    "signal_df.head()"
   ]
  },
  {
   "cell_type": "code",
   "execution_count": 20,
   "metadata": {},
   "outputs": [],
   "source": [
    "signal_df.sort_index(sort_remaining = True, inplace = True)\n",
    "participants = signal_df.index.get_level_values('participant').unique()\n",
    "for participant in participants:\n",
    "    sensors = signal_df.columns.values\n",
    "#     fig, axes = plt.subplots(5,1, figsize = (18,10))\n",
    "#     ax = axes.flatten()\n",
    "    for i, sensor in enumerate(sensors):\n",
    "        try:\n",
    "            d = signal_df.loc(axis = 0)[participant,:][[sensor]]\n",
    "#             ax[i].plot(d[sensor].values)\n",
    "#             ax[i].set_title(\"{} of participant-{}\".format(sensor,participant))\n",
    "        except:\n",
    "            print(\"{} has no {}\".format(participant,sensor)) "
   ]
  },
  {
   "cell_type": "code",
   "execution_count": 21,
   "metadata": {},
   "outputs": [],
   "source": [
    "files2 = list([])\n",
    "path2 = \"/mnt/shared_drive/data/brain_therapy/Brain Therapy MVP Content Pilot/Timestamp-Export/MVP\"\n",
    "for directory in directories:\n",
    "    f = os.listdir(path2+\"/\"+directory)\n",
    "    files2.append([path2+\"/\"+directory+\"/\"+x for x in f if x.endswith(\"csv.txt\")])\n",
    "    "
   ]
  },
  {
   "cell_type": "code",
   "execution_count": 22,
   "metadata": {},
   "outputs": [],
   "source": [
    "files2 = [file for file in files2 if len(file)>0]"
   ]
  },
  {
   "cell_type": "code",
   "execution_count": 23,
   "metadata": {},
   "outputs": [],
   "source": [
    "signal_df2 = pd.DataFrame([])\n",
    "for file in files2:\n",
    "    temp = pd.DataFrame([])\n",
    "    for data in file:\n",
    "        name = data.split(\"/\")[8].split(\"-\")[2]\n",
    "#         display(name)\n",
    "        d = pd.read_csv(data, skiprows = 15, usecols = [0,1,2,3,4], names = ['RSP','PPG','T','ECG','EDA'])\n",
    "        d['type'] = \"3D\" if \"3D\" in data else \"2D\"\n",
    "        d['participant']=name\n",
    "        temp = pd.concat([temp,d])\n",
    "    #Check if 2D or 3D is longer\n",
    "    dd = temp[temp['type']=='2D']\n",
    "    ddd = temp[temp['type']=='3D']\n",
    "    if len(dd) > len(ddd):\n",
    "        signal_df2 = pd.concat([signal_df2,dd])\n",
    "    else:\n",
    "        signal_df2 = pd.concat([signal_df2, ddd])\n",
    "        "
   ]
  },
  {
   "cell_type": "code",
   "execution_count": 24,
   "metadata": {},
   "outputs": [],
   "source": [
    "signal_df2.set_index(['participant','type'], inplace = True)"
   ]
  },
  {
   "cell_type": "code",
   "execution_count": 25,
   "metadata": {},
   "outputs": [
    {
     "name": "stderr",
     "output_type": "stream",
     "text": [
      "/home/camar/.conda/envs/btsrd/lib/python3.7/site-packages/ipykernel/__main__.py:8: SettingWithCopyWarning: \n",
      "A value is trying to be set on a copy of a slice from a DataFrame.\n",
      "Try using .loc[row_indexer,col_indexer] = value instead\n",
      "\n",
      "See the caveats in the documentation: http://pandas.pydata.org/pandas-docs/stable/indexing.html#indexing-view-versus-copy\n"
     ]
    }
   ],
   "source": [
    "participants = signal_df2.index.get_level_values('participant').unique().values\n",
    "#Eliminating participant 0004, 0005,0009 because they don't have a *total.txt file\n",
    "participants = [p for p in participants if p not in ['0004','0005','0009']]\n",
    "new_signal_df = pd.DataFrame([])\n",
    "for participant in participants:\n",
    "    datetimes = signal_df.loc(axis = 0)[participant].index.get_level_values('Datetime').values\n",
    "    d = signal_df2.loc(axis = 0)[participant,:]\n",
    "    d['Datetime'] = datetimes\n",
    "    new_signal_df = pd.concat([new_signal_df,d])\n",
    "new_signal_df.rename(columns = {'T':'1-SKTA'}, inplace = True)"
   ]
  },
  {
   "cell_type": "code",
   "execution_count": 26,
   "metadata": {},
   "outputs": [],
   "source": [
    "new_signal_df.set_index(\"Datetime\", append = True, inplace = True)"
   ]
  },
  {
   "cell_type": "code",
   "execution_count": 27,
   "metadata": {},
   "outputs": [
    {
     "data": {
      "text/html": [
       "<div>\n",
       "<style scoped>\n",
       "    .dataframe tbody tr th:only-of-type {\n",
       "        vertical-align: middle;\n",
       "    }\n",
       "\n",
       "    .dataframe tbody tr th {\n",
       "        vertical-align: top;\n",
       "    }\n",
       "\n",
       "    .dataframe thead th {\n",
       "        text-align: right;\n",
       "    }\n",
       "</style>\n",
       "<table border=\"1\" class=\"dataframe\">\n",
       "  <thead>\n",
       "    <tr style=\"text-align: right;\">\n",
       "      <th></th>\n",
       "      <th></th>\n",
       "      <th></th>\n",
       "      <th>RSP</th>\n",
       "      <th>PPG</th>\n",
       "      <th>1-SKTA</th>\n",
       "      <th>ECG</th>\n",
       "      <th>EDA</th>\n",
       "    </tr>\n",
       "    <tr>\n",
       "      <th>participant</th>\n",
       "      <th>type</th>\n",
       "      <th>Datetime</th>\n",
       "      <th></th>\n",
       "      <th></th>\n",
       "      <th></th>\n",
       "      <th></th>\n",
       "      <th></th>\n",
       "    </tr>\n",
       "  </thead>\n",
       "  <tbody>\n",
       "    <tr>\n",
       "      <th rowspan=\"5\" valign=\"top\">0017</th>\n",
       "      <th rowspan=\"5\" valign=\"top\">3D</th>\n",
       "      <th>2019-07-30 10:21:12.000</th>\n",
       "      <td>-2.169495</td>\n",
       "      <td>-0.167542</td>\n",
       "      <td>31.185791</td>\n",
       "      <td>-0.325928</td>\n",
       "      <td>8.377075</td>\n",
       "    </tr>\n",
       "    <tr>\n",
       "      <th>2019-07-30 10:21:12.004</th>\n",
       "      <td>-2.178650</td>\n",
       "      <td>-0.166931</td>\n",
       "      <td>31.187622</td>\n",
       "      <td>-0.279541</td>\n",
       "      <td>8.375550</td>\n",
       "    </tr>\n",
       "    <tr>\n",
       "      <th>2019-07-30 10:21:12.008</th>\n",
       "      <td>-2.191772</td>\n",
       "      <td>-0.172729</td>\n",
       "      <td>31.186401</td>\n",
       "      <td>-0.226593</td>\n",
       "      <td>8.372498</td>\n",
       "    </tr>\n",
       "    <tr>\n",
       "      <th>2019-07-30 10:21:12.012</th>\n",
       "      <td>-2.201538</td>\n",
       "      <td>-0.177307</td>\n",
       "      <td>31.187622</td>\n",
       "      <td>-0.181427</td>\n",
       "      <td>8.375550</td>\n",
       "    </tr>\n",
       "    <tr>\n",
       "      <th>2019-07-30 10:21:12.016</th>\n",
       "      <td>-2.206421</td>\n",
       "      <td>-0.177612</td>\n",
       "      <td>31.186401</td>\n",
       "      <td>-0.151672</td>\n",
       "      <td>8.375550</td>\n",
       "    </tr>\n",
       "  </tbody>\n",
       "</table>\n",
       "</div>"
      ],
      "text/plain": [
       "                                               RSP       PPG     1-SKTA  \\\n",
       "participant type Datetime                                                 \n",
       "0017        3D   2019-07-30 10:21:12.000 -2.169495 -0.167542  31.185791   \n",
       "                 2019-07-30 10:21:12.004 -2.178650 -0.166931  31.187622   \n",
       "                 2019-07-30 10:21:12.008 -2.191772 -0.172729  31.186401   \n",
       "                 2019-07-30 10:21:12.012 -2.201538 -0.177307  31.187622   \n",
       "                 2019-07-30 10:21:12.016 -2.206421 -0.177612  31.186401   \n",
       "\n",
       "                                               ECG       EDA  \n",
       "participant type Datetime                                     \n",
       "0017        3D   2019-07-30 10:21:12.000 -0.325928  8.377075  \n",
       "                 2019-07-30 10:21:12.004 -0.279541  8.375550  \n",
       "                 2019-07-30 10:21:12.008 -0.226593  8.372498  \n",
       "                 2019-07-30 10:21:12.012 -0.181427  8.375550  \n",
       "                 2019-07-30 10:21:12.016 -0.151672  8.375550  "
      ]
     },
     "metadata": {},
     "output_type": "display_data"
    },
    {
     "data": {
      "text/html": [
       "<div>\n",
       "<style scoped>\n",
       "    .dataframe tbody tr th:only-of-type {\n",
       "        vertical-align: middle;\n",
       "    }\n",
       "\n",
       "    .dataframe tbody tr th {\n",
       "        vertical-align: top;\n",
       "    }\n",
       "\n",
       "    .dataframe thead th {\n",
       "        text-align: right;\n",
       "    }\n",
       "</style>\n",
       "<table border=\"1\" class=\"dataframe\">\n",
       "  <thead>\n",
       "    <tr style=\"text-align: right;\">\n",
       "      <th></th>\n",
       "      <th></th>\n",
       "      <th>RSP</th>\n",
       "      <th>PPG</th>\n",
       "      <th>1-SKTA</th>\n",
       "      <th>ECG</th>\n",
       "      <th>EDA</th>\n",
       "    </tr>\n",
       "    <tr>\n",
       "      <th>participant</th>\n",
       "      <th>Datetime</th>\n",
       "      <th></th>\n",
       "      <th></th>\n",
       "      <th></th>\n",
       "      <th></th>\n",
       "      <th></th>\n",
       "    </tr>\n",
       "  </thead>\n",
       "  <tbody>\n",
       "    <tr>\n",
       "      <th rowspan=\"5\" valign=\"top\">0001</th>\n",
       "      <th>2019-07-10 15:22:31.000</th>\n",
       "      <td>-1.263123</td>\n",
       "      <td>0.003052</td>\n",
       "      <td>12.941162</td>\n",
       "      <td>-0.234833</td>\n",
       "      <td>0.041124</td>\n",
       "    </tr>\n",
       "    <tr>\n",
       "      <th>2019-07-10 15:22:31.004</th>\n",
       "      <td>-1.261902</td>\n",
       "      <td>0.003662</td>\n",
       "      <td>12.945435</td>\n",
       "      <td>-0.226593</td>\n",
       "      <td>0.042649</td>\n",
       "    </tr>\n",
       "    <tr>\n",
       "      <th>2019-07-10 15:22:31.008</th>\n",
       "      <td>-1.264648</td>\n",
       "      <td>0.002136</td>\n",
       "      <td>12.946045</td>\n",
       "      <td>-0.215607</td>\n",
       "      <td>0.044175</td>\n",
       "    </tr>\n",
       "    <tr>\n",
       "      <th>2019-07-10 15:22:31.012</th>\n",
       "      <td>-1.261902</td>\n",
       "      <td>0.003662</td>\n",
       "      <td>12.945435</td>\n",
       "      <td>-0.206604</td>\n",
       "      <td>0.039598</td>\n",
       "    </tr>\n",
       "    <tr>\n",
       "      <th>2019-07-10 15:22:31.016</th>\n",
       "      <td>-1.262207</td>\n",
       "      <td>0.003357</td>\n",
       "      <td>12.946045</td>\n",
       "      <td>-0.198364</td>\n",
       "      <td>0.042649</td>\n",
       "    </tr>\n",
       "  </tbody>\n",
       "</table>\n",
       "</div>"
      ],
      "text/plain": [
       "                                          RSP       PPG     1-SKTA       ECG  \\\n",
       "participant Datetime                                                           \n",
       "0001        2019-07-10 15:22:31.000 -1.263123  0.003052  12.941162 -0.234833   \n",
       "            2019-07-10 15:22:31.004 -1.261902  0.003662  12.945435 -0.226593   \n",
       "            2019-07-10 15:22:31.008 -1.264648  0.002136  12.946045 -0.215607   \n",
       "            2019-07-10 15:22:31.012 -1.261902  0.003662  12.945435 -0.206604   \n",
       "            2019-07-10 15:22:31.016 -1.262207  0.003357  12.946045 -0.198364   \n",
       "\n",
       "                                          EDA  \n",
       "participant Datetime                           \n",
       "0001        2019-07-10 15:22:31.000  0.041124  \n",
       "            2019-07-10 15:22:31.004  0.042649  \n",
       "            2019-07-10 15:22:31.008  0.044175  \n",
       "            2019-07-10 15:22:31.012  0.039598  \n",
       "            2019-07-10 15:22:31.016  0.042649  "
      ]
     },
     "metadata": {},
     "output_type": "display_data"
    }
   ],
   "source": [
    "display(new_signal_df.head())\n",
    "display(signal_df.head())"
   ]
  },
  {
   "cell_type": "code",
   "execution_count": 47,
   "metadata": {
    "scrolled": true
   },
   "outputs": [],
   "source": [
    "import math\n",
    "mvp_offset = pd.read_csv('MVP-Offsets_v2.csv')\n",
    "mvp_offset['participant'] =mvp_offset['MVP ID'].astype(int)\n",
    "mvp_offset['participant'] = mvp_offset['participant'].apply(lambda x: str(int(x)).zfill(4))\n",
    "mvp_offset.set_index(['participant',\"MVP ID\"], inplace = True)\n",
    "mvp_offset.drop(\"Insert Time\", axis = 1, inplace = True)\n",
    "mvp_offset.dropna(inplace = True)"
   ]
  },
  {
   "cell_type": "code",
   "execution_count": 48,
   "metadata": {},
   "outputs": [
    {
     "data": {
      "text/html": [
       "<div>\n",
       "<style scoped>\n",
       "    .dataframe tbody tr th:only-of-type {\n",
       "        vertical-align: middle;\n",
       "    }\n",
       "\n",
       "    .dataframe tbody tr th {\n",
       "        vertical-align: top;\n",
       "    }\n",
       "\n",
       "    .dataframe thead th {\n",
       "        text-align: right;\n",
       "    }\n",
       "</style>\n",
       "<table border=\"1\" class=\"dataframe\">\n",
       "  <thead>\n",
       "    <tr style=\"text-align: right;\">\n",
       "      <th></th>\n",
       "      <th></th>\n",
       "      <th>Offset Time</th>\n",
       "      <th>adjusted_insert_time</th>\n",
       "    </tr>\n",
       "    <tr>\n",
       "      <th>participant</th>\n",
       "      <th>MVP ID</th>\n",
       "      <th></th>\n",
       "      <th></th>\n",
       "    </tr>\n",
       "  </thead>\n",
       "  <tbody>\n",
       "    <tr>\n",
       "      <th>0001</th>\n",
       "      <th>1.0</th>\n",
       "      <td>15:44:09</td>\n",
       "      <td>15:38:38.644000</td>\n",
       "    </tr>\n",
       "    <tr>\n",
       "      <th>0002</th>\n",
       "      <th>2.0</th>\n",
       "      <td>16:08:34</td>\n",
       "      <td>16:04:34.936000</td>\n",
       "    </tr>\n",
       "    <tr>\n",
       "      <th rowspan=\"2\" valign=\"top\">0003</th>\n",
       "      <th>3.1</th>\n",
       "      <td>13:22:35</td>\n",
       "      <td>13:20:08.900000</td>\n",
       "    </tr>\n",
       "    <tr>\n",
       "      <th>3.2</th>\n",
       "      <td>13:39:35</td>\n",
       "      <td>13:32:50.656000</td>\n",
       "    </tr>\n",
       "    <tr>\n",
       "      <th>0006</th>\n",
       "      <th>6.1</th>\n",
       "      <td>10:15:29</td>\n",
       "      <td>10:14:05.472000</td>\n",
       "    </tr>\n",
       "  </tbody>\n",
       "</table>\n",
       "</div>"
      ],
      "text/plain": [
       "                   Offset Time adjusted_insert_time\n",
       "participant MVP ID                                 \n",
       "0001        1.0       15:44:09      15:38:38.644000\n",
       "0002        2.0       16:08:34      16:04:34.936000\n",
       "0003        3.1       13:22:35      13:20:08.900000\n",
       "            3.2       13:39:35      13:32:50.656000\n",
       "0006        6.1       10:15:29      10:14:05.472000"
      ]
     },
     "execution_count": 48,
     "metadata": {},
     "output_type": "execute_result"
    }
   ],
   "source": [
    "mvp_offset['adjusted_insert_time'] = pd.to_datetime(mvp_offset['Adjusted Insert Time'], unit = 'ms')\n",
    "mvp_offset['adjusted_insert_time'] = mvp_offset['adjusted_insert_time'].apply(lambda x : x.time())\n",
    "mvp_offset.drop(\"Adjusted Insert Time\", axis = 1, inplace = True)\n",
    "mvp_offset.head()"
   ]
  },
  {
   "cell_type": "code",
   "execution_count": 30,
   "metadata": {
    "scrolled": false
   },
   "outputs": [
    {
     "ename": "NameError",
     "evalue": "name 'new_signal_df' is not defined",
     "output_type": "error",
     "traceback": [
      "\u001b[0;31m---------------------------------------------------------------------------\u001b[0m",
      "\u001b[0;31mNameError\u001b[0m                                 Traceback (most recent call last)",
      "\u001b[0;32m<ipython-input-30-3b33696ab5a9>\u001b[0m in \u001b[0;36m<module>\u001b[0;34m\u001b[0m\n\u001b[0;32m----> 1\u001b[0;31m \u001b[0mtemp\u001b[0m \u001b[0;34m=\u001b[0m \u001b[0mnew_signal_df\u001b[0m\u001b[0;34m.\u001b[0m\u001b[0mreset_index\u001b[0m\u001b[0;34m(\u001b[0m\u001b[0;34m'type'\u001b[0m\u001b[0;34m,\u001b[0m \u001b[0mdrop\u001b[0m \u001b[0;34m=\u001b[0m \u001b[0;32mTrue\u001b[0m\u001b[0;34m)\u001b[0m\u001b[0;34m\u001b[0m\u001b[0;34m\u001b[0m\u001b[0m\n\u001b[0m\u001b[1;32m      2\u001b[0m \u001b[0;32mfrom\u001b[0m \u001b[0mmatplotlib\u001b[0m\u001b[0;34m.\u001b[0m\u001b[0mpyplot\u001b[0m \u001b[0;32mimport\u001b[0m \u001b[0mcm\u001b[0m\u001b[0;34m\u001b[0m\u001b[0;34m\u001b[0m\u001b[0m\n\u001b[1;32m      3\u001b[0m \u001b[0;32mfor\u001b[0m \u001b[0mparticipant\u001b[0m \u001b[0;32min\u001b[0m \u001b[0msorted\u001b[0m\u001b[0;34m(\u001b[0m\u001b[0mparticipants\u001b[0m\u001b[0;34m)\u001b[0m\u001b[0;34m:\u001b[0m\u001b[0;34m\u001b[0m\u001b[0;34m\u001b[0m\u001b[0m\n\u001b[1;32m      4\u001b[0m     \u001b[0mnew\u001b[0m \u001b[0;34m=\u001b[0m \u001b[0mtemp\u001b[0m\u001b[0;34m.\u001b[0m\u001b[0mloc\u001b[0m\u001b[0;34m(\u001b[0m\u001b[0maxis\u001b[0m \u001b[0;34m=\u001b[0m \u001b[0;36m0\u001b[0m\u001b[0;34m)\u001b[0m\u001b[0;34m[\u001b[0m\u001b[0mparticipant\u001b[0m\u001b[0;34m,\u001b[0m\u001b[0;34m:\u001b[0m\u001b[0;34m]\u001b[0m\u001b[0;34m\u001b[0m\u001b[0;34m\u001b[0m\u001b[0m\n\u001b[1;32m      5\u001b[0m     \u001b[0msig\u001b[0m \u001b[0;34m=\u001b[0m \u001b[0msignal_df\u001b[0m\u001b[0;34m.\u001b[0m\u001b[0mloc\u001b[0m\u001b[0;34m(\u001b[0m\u001b[0maxis\u001b[0m \u001b[0;34m=\u001b[0m \u001b[0;36m0\u001b[0m\u001b[0;34m)\u001b[0m\u001b[0;34m[\u001b[0m\u001b[0mparticipant\u001b[0m\u001b[0;34m,\u001b[0m\u001b[0;34m:\u001b[0m\u001b[0;34m]\u001b[0m\u001b[0;34m\u001b[0m\u001b[0;34m\u001b[0m\u001b[0m\n",
      "\u001b[0;31mNameError\u001b[0m: name 'new_signal_df' is not defined"
     ]
    }
   ],
   "source": [
    "temp = new_signal_df.reset_index('type', drop = True)\n",
    "from matplotlib.pyplot import cm\n",
    "for participant in sorted(participants):\n",
    "    new = temp.loc(axis = 0)[participant,:]\n",
    "    sig = signal_df.loc(axis = 0)[participant,:]\n",
    "    fig, axes = plt.subplots(5,1, figsize = (18,25))\n",
    "    ax = axes.flatten()\n",
    "    plt.subplots_adjust(hspace = 0.5)\n",
    "    insert = mvp_offset.loc(axis = 0)[participant,:]['adjusted_insert_time'].values\n",
    "    offset = mvp_offset.loc(axis = 0)[participant,:]['Offset Time'].values\n",
    "    colors = iter(cm.tab20(np.linspace(0,1, 25)))\n",
    "    for z,sensor in enumerate(sensors):\n",
    "        plot = ax[z].plot((new.index.get_level_values('Datetime')).time,new[sensor].values, '-o',zorder = 0, color = 'darkgrey')\n",
    "        for ins,off in zip(insert,offset):\n",
    "            i = datetime.strptime(ins, \"%H:%M:%S\").time()\n",
    "            o = datetime.strptime(off,\"%H:%M:%S\").time()\n",
    "            mvp = mvp_offset.loc(axis = 0)[participant,:][mvp_offset['Insert Time']==ins]\n",
    "            mvp_id = mvp.index.get_level_values('MVP ID').unique().values[0]\n",
    "            \n",
    "            ax[z].axvspan(i,o, color = next(colors), zorder = 1, alpha = 0.4, label = mvp_id)\n",
    "#             llim, ulim = ax[z].get_ylim()\n",
    "#             ax[z].annotate(\"{}\".format(mvp_id), (i,ulim), rotation = 90)\n",
    "        ax[z].set_title(\"{} of Participant-{}\".format(sensor, participant))\n",
    "        ax[z].legend(loc ='upper right')\n",
    "plt.show()"
   ]
  },
  {
   "cell_type": "code",
   "execution_count": 49,
   "metadata": {},
   "outputs": [
    {
     "data": {
      "text/plain": [
       "['/mnt/shared_drive/data/brain_therapy/mvp_offset.pkl']"
      ]
     },
     "execution_count": 49,
     "metadata": {},
     "output_type": "execute_result"
    }
   ],
   "source": [
    "# joblib.dump(mvp_offset, \"/mnt/shared_drive/data/brain_therapy/mvp_offset.pkl\")"
   ]
  },
  {
   "cell_type": "code",
   "execution_count": null,
   "metadata": {},
   "outputs": [],
   "source": []
  }
 ],
 "metadata": {
  "kernelspec": {
   "display_name": "Python [conda env:btsrd]",
   "language": "python",
   "name": "conda-env-btsrd-py"
  },
  "language_info": {
   "codemirror_mode": {
    "name": "ipython",
    "version": 3
   },
   "file_extension": ".py",
   "mimetype": "text/x-python",
   "name": "python",
   "nbconvert_exporter": "python",
   "pygments_lexer": "ipython3",
   "version": "3.7.3"
  }
 },
 "nbformat": 4,
 "nbformat_minor": 2
}
